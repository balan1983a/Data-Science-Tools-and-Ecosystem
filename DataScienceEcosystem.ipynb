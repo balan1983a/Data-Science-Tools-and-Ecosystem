{
 "cells": [
  {
   "cell_type": "markdown",
   "id": "4cfffc05-265a-4d7f-92fa-47f29175b1a8",
   "metadata": {
    "tags": []
   },
   "source": [
    "# Data Science Tools and Ecosystem"
   ]
  },
  {
   "cell_type": "markdown",
   "id": "f38587ed-9dca-45f2-b152-d8729f88a6a1",
   "metadata": {},
   "source": [
    "In this notebook, Data Science Tools and Ecosystem are summarized."
   ]
  },
  {
   "cell_type": "markdown",
   "id": "eeffe4f5-3f31-40ae-a2d0-052aab35996f",
   "metadata": {},
   "source": [
    "Some of the popular languages that Data Scientists use are: <br>\n",
    "1 Python <br>\n",
    "2 R <br>\n",
    "3 Julia <br>"
   ]
  },
  {
   "cell_type": "markdown",
   "id": "2168b8fb-56b5-4d8e-83b7-2f7283a58466",
   "metadata": {},
   "source": [
    "Some of the commonly used libraries used by Data Scientists include: <br>\n",
    "1 TensorFlow <br>\n",
    "2 NumPy <br>\n",
    "3 Pandas <br>\n",
    "4 Keras <br>"
   ]
  },
  {
   "cell_type": "markdown",
   "id": "4c2e4f38-052f-4981-b4d1-5bbcd64cda0e",
   "metadata": {},
   "source": [
    "|Data Science Tools|||\n",
    "|--------|--------|--------|\n",
    "| Jupyter Notebook | VSCode | SPYDER |"
   ]
  },
  {
   "cell_type": "markdown",
   "id": "1cde009b-6897-4a4c-bf2a-e1f184273cce",
   "metadata": {
    "tags": []
   },
   "source": [
    "### Below are a few examples of evaluating arithmetic expressions in Python"
   ]
  },
  {
   "cell_type": "code",
   "execution_count": 2,
   "id": "4bf9c7ae-e274-495f-ad57-a83879b37bd4",
   "metadata": {},
   "outputs": [
    {
     "data": {
      "text/plain": [
       "17"
      ]
     },
     "execution_count": 2,
     "metadata": {},
     "output_type": "execute_result"
    }
   ],
   "source": [
    "# This a simple arithmetic expression to mutiply then add integers\n",
    "(3*4)+5"
   ]
  },
  {
   "cell_type": "code",
   "execution_count": 6,
   "id": "32026a80-bc1d-41bf-8266-76dd379d7355",
   "metadata": {},
   "outputs": [
    {
     "data": {
      "text/plain": [
       "3.3333333333333335"
      ]
     },
     "execution_count": 6,
     "metadata": {},
     "output_type": "execute_result"
    }
   ],
   "source": [
    "# This will convert 200 minutes to hours by diving by 60\n",
    "200 / 60"
   ]
  },
  {
   "cell_type": "markdown",
   "id": "33f86ba4-1520-4fb6-92df-69bcbb7bcaf2",
   "metadata": {},
   "source": [
    "**Objectives:**\n",
    "* List popular languages for Data Science\n",
    "* List of commonly used libraries for Data Science\n",
    "* Evaluating arithmetic expressions in Python"
   ]
  },
  {
   "cell_type": "markdown",
   "id": "1056e486-ff7f-4f84-b530-fddf5a832423",
   "metadata": {},
   "source": [
    "## Author\n",
    "Thiru"
   ]
  },
  {
   "cell_type": "code",
   "execution_count": null,
   "id": "b6a4c593-2bde-4d9a-b2e7-94d79510b5d6",
   "metadata": {},
   "outputs": [],
   "source": []
  }
 ],
 "metadata": {
  "kernelspec": {
   "display_name": "Python",
   "language": "python",
   "name": "conda-env-python-py"
  },
  "language_info": {
   "codemirror_mode": {
    "name": "ipython",
    "version": 3
   },
   "file_extension": ".py",
   "mimetype": "text/x-python",
   "name": "python",
   "nbconvert_exporter": "python",
   "pygments_lexer": "ipython3",
   "version": "3.7.12"
  },
  "toc-autonumbering": false,
  "toc-showcode": true,
  "toc-showmarkdowntxt": false,
  "toc-showtags": true
 },
 "nbformat": 4,
 "nbformat_minor": 5
}
